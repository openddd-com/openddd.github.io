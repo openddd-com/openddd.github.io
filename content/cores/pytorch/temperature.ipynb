{
 "cells": [
  {
   "cell_type": "code",
   "execution_count": 1,
   "source": [
    "import torch\r\n",
    "torch.__version__"
   ],
   "outputs": [
    {
     "output_type": "execute_result",
     "data": {
      "text/plain": [
       "'1.9.1+cpu'"
      ]
     },
     "metadata": {},
     "execution_count": 1
    }
   ],
   "metadata": {}
  },
  {
   "cell_type": "markdown",
   "source": [
    "# 线性回归模型\r\n",
    "    * 其实线性回归就是一个不加激活函数的全连接层"
   ],
   "metadata": {}
  },
  {
   "cell_type": "code",
   "execution_count": 3,
   "source": [
    "import numpy as np\r\n",
    "x_values = [i for i in range(11)]\r\n",
    "x_train = np.array(x_values, dtype= np.float32)\r\n",
    "x_train =x_train.reshape(-1, 1)"
   ],
   "outputs": [],
   "metadata": {}
  },
  {
   "cell_type": "code",
   "execution_count": 4,
   "source": [
    "x_train.shape"
   ],
   "outputs": [
    {
     "output_type": "execute_result",
     "data": {
      "text/plain": [
       "(11, 1)"
      ]
     },
     "metadata": {},
     "execution_count": 4
    }
   ],
   "metadata": {}
  },
  {
   "cell_type": "code",
   "execution_count": 5,
   "source": [
    "import numpy as np\r\n",
    "y_values = [2*i+1 for i in x_values]\r\n",
    "y_train = np.array(y_values, dtype= np.float32)\r\n",
    "y_train =y_train.reshape(-1, 1)"
   ],
   "outputs": [],
   "metadata": {}
  },
  {
   "cell_type": "code",
   "execution_count": 9,
   "source": [
    "import torch.nn as nn\r\n",
    "class LinearRegressionModel(nn.Module):\r\n",
    "    def __init__(self, input_dim, output_dim):\r\n",
    "        super(LinearRegressionModel, self).__init__()\r\n",
    "        self.linear = nn.Linear(input_dim, output_dim)\r\n",
    "    \r\n",
    "    def forward(self, x):\r\n",
    "        out = self.linear(x)\r\n",
    "        return out\r\n",
    "\r\n",
    "input_dim = 1\r\n",
    "output_dim = 1\r\n",
    "model = LinearRegressionModel(input_dim, output_dim)\r\n",
    "device = torch.device(\"cuda:0\" if torch.cuda.is_available() else \"cpu\")\r\n",
    "model.to(device)"
   ],
   "outputs": [],
   "metadata": {}
  },
  {
   "cell_type": "code",
   "execution_count": 7,
   "source": [
    "model"
   ],
   "outputs": [
    {
     "output_type": "execute_result",
     "data": {
      "text/plain": [
       "LinearRegressionModel(\n",
       "  (linear): Linear(in_features=1, out_features=1, bias=True)\n",
       ")"
      ]
     },
     "metadata": {},
     "execution_count": 7
    }
   ],
   "metadata": {}
  },
  {
   "cell_type": "code",
   "execution_count": 11,
   "source": [
    "epochs = 1000\r\n",
    "learning_rate = 0.01\r\n",
    "optimizer = torch.optim.SGD(model.parameters(), lr=learning_rate)\r\n",
    "criterion = nn.MSELoss()"
   ],
   "outputs": [],
   "metadata": {}
  },
  {
   "cell_type": "code",
   "execution_count": 22,
   "source": [
    "for epoch in range(epochs):\r\n",
    "    epoch += 1\r\n",
    "    inputs = torch.from_numpy(x_train)\r\n",
    "    labels = torch.from_numpy(y_train)\r\n",
    "    #梯度清0\r\n",
    "    optimizer.zero_grad()\r\n",
    "    #前向传播\r\n",
    "    outputs = model(inputs)\r\n",
    "    #损失函数\r\n",
    "    loss=criterion(outputs, labels)\r\n",
    "    #反向传播\r\n",
    "    loss.backward()\r\n",
    "    #更新权重\r\n",
    "    optimizer.step()\r\n",
    "    if epoch % 50 ==0:\r\n",
    "        print('epoch {}, loss {}'.format(epoch, loss.item()))"
   ],
   "outputs": [
    {
     "output_type": "stream",
     "name": "stdout",
     "text": [
      "epoch 50, loss 2.1725813856288134e-11\n",
      "epoch 100, loss 1.5593505653388462e-11\n",
      "epoch 150, loss 1.5593505653388462e-11\n",
      "epoch 200, loss 1.5593505653388462e-11\n",
      "epoch 250, loss 1.5593505653388462e-11\n",
      "epoch 300, loss 1.5593505653388462e-11\n",
      "epoch 350, loss 1.5593505653388462e-11\n",
      "epoch 400, loss 1.5593505653388462e-11\n",
      "epoch 450, loss 1.5593505653388462e-11\n",
      "epoch 500, loss 1.5593505653388462e-11\n",
      "epoch 550, loss 1.5593505653388462e-11\n",
      "epoch 600, loss 1.5593505653388462e-11\n",
      "epoch 650, loss 1.5593505653388462e-11\n",
      "epoch 700, loss 1.5593505653388462e-11\n",
      "epoch 750, loss 1.5593505653388462e-11\n",
      "epoch 800, loss 1.5593505653388462e-11\n",
      "epoch 850, loss 1.5593505653388462e-11\n",
      "epoch 900, loss 1.5593505653388462e-11\n",
      "epoch 950, loss 1.5593505653388462e-11\n",
      "epoch 1000, loss 1.5593505653388462e-11\n"
     ]
    }
   ],
   "metadata": {}
  },
  {
   "cell_type": "code",
   "execution_count": 23,
   "source": [
    "predicted = model(torch.from_numpy(x_train).requires_grad_()).data.numpy()\r\n",
    "predicted"
   ],
   "outputs": [
    {
     "output_type": "execute_result",
     "data": {
      "text/plain": [
       "array([[ 0.99999267],\n",
       "       [ 2.9999938 ],\n",
       "       [ 4.999995  ],\n",
       "       [ 6.9999967 ],\n",
       "       [ 8.999997  ],\n",
       "       [10.999998  ],\n",
       "       [13.        ],\n",
       "       [15.000001  ],\n",
       "       [17.000002  ],\n",
       "       [19.000004  ],\n",
       "       [21.000004  ]], dtype=float32)"
      ]
     },
     "metadata": {},
     "execution_count": 23
    }
   ],
   "metadata": {}
  },
  {
   "cell_type": "code",
   "execution_count": 24,
   "source": [
    "torch.save(model.state_dict(), 'model.pkl')"
   ],
   "outputs": [],
   "metadata": {}
  },
  {
   "cell_type": "code",
   "execution_count": 26,
   "source": [
    "model.load_state_dict(torch.load('model.pkl'))"
   ],
   "outputs": [
    {
     "output_type": "execute_result",
     "data": {
      "text/plain": [
       "<All keys matched successfully>"
      ]
     },
     "metadata": {},
     "execution_count": 26
    }
   ],
   "metadata": {}
  }
 ],
 "metadata": {
  "orig_nbformat": 4,
  "language_info": {
   "name": "python",
   "version": "3.9.5",
   "mimetype": "text/x-python",
   "codemirror_mode": {
    "name": "ipython",
    "version": 3
   },
   "pygments_lexer": "ipython3",
   "nbconvert_exporter": "python",
   "file_extension": ".py"
  },
  "kernelspec": {
   "name": "python3",
   "display_name": "Python 3.9.5 64-bit ('.venv': venv)"
  },
  "interpreter": {
   "hash": "e1bd7445c43e6d2d67b478da4d1d0d7143e51901eb0e6267962a7c87819b17cd"
  }
 },
 "nbformat": 4,
 "nbformat_minor": 2
}